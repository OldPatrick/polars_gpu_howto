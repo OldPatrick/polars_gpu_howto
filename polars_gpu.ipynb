{
 "cells": [
  {
   "cell_type": "code",
   "execution_count": 1,
   "id": "bcf0cb18-6e96-4208-aaac-3cc7c0718451",
   "metadata": {},
   "outputs": [
    {
     "name": "stdout",
     "output_type": "stream",
     "text": [
      "--2025-05-08 12:04:37--  https://storage.googleapis.com/rapidsai/polars-demo/transactions.parquet\n",
      "Resolving storage.googleapis.com (storage.googleapis.com)... 172.253.120.207, 74.125.140.207, 2a00:1450:400c:c08::cf, ...\n",
      "Connecting to storage.googleapis.com (storage.googleapis.com)|172.253.120.207|:443... connected.\n",
      "HTTP request sent, awaiting response... 200 OK\n",
      "Length: 4274457161 (4.0G) [application/octet-stream]\n",
      "Saving to: ‘transactions.parquet’\n",
      "\n",
      "transactions.parque 100%[===================>]   3.98G  40.0MB/s    in 1m 41s  \n",
      "\n",
      "2025-05-08 12:06:18 (40.4 MB/s) - ‘transactions.parquet’ saved [4274457161/4274457161]\n",
      "\n"
     ]
    }
   ],
   "source": [
    "!wget https://storage.googleapis.com/rapidsai/polars-demo/transactions.parquet -O transactions.parquet"
   ]
  },
  {
   "cell_type": "code",
   "execution_count": 1,
   "id": "25be44bf-f847-4cd9-b3ab-fb891eff77db",
   "metadata": {},
   "outputs": [
    {
     "data": {
      "text/plain": [
       "Schema([('CUST_ID', String),\n",
       "        ('START_DATE', Date),\n",
       "        ('END_DATE', Date),\n",
       "        ('TRANS_ID', String),\n",
       "        ('DATE', Date),\n",
       "        ('YEAR', Int64),\n",
       "        ('MONTH', Int64),\n",
       "        ('DAY', Int64),\n",
       "        ('EXP_TYPE', String),\n",
       "        ('AMOUNT', Float64)])"
      ]
     },
     "execution_count": 1,
     "metadata": {},
     "output_type": "execute_result"
    }
   ],
   "source": [
    "import polars as pl\n",
    "from polars.testing import assert_frame_equal\n",
    "\n",
    "transactions = pl.scan_parquet(\"transactions.parquet\")\n",
    "transactions.collect_schema()"
   ]
  },
  {
   "cell_type": "code",
   "execution_count": 2,
   "id": "e2517621-c1a0-4335-894d-32dbc56d4df3",
   "metadata": {},
   "outputs": [
    {
     "data": {
      "text/html": [
       "<i>naive plan: (run <b>LazyFrame.explain(optimized=True)</b> to see the optimized plan)</i>\n",
       "    <p></p>\n",
       "    <div>Parquet SCAN [transactions.parquet]<p></p>PROJECT */10 COLUMNS</div>"
      ],
      "text/plain": [
       "<LazyFrame at 0x7FCCBB0CA410>"
      ]
     },
     "execution_count": 2,
     "metadata": {},
     "output_type": "execute_result"
    }
   ],
   "source": [
    "transactions"
   ]
  },
  {
   "cell_type": "code",
   "execution_count": 3,
   "id": "4a1a4a41-f714-4e80-9d64-e4f38fb09f30",
   "metadata": {},
   "outputs": [
    {
     "data": {
      "text/html": [
       "<div><style>\n",
       ".dataframe > thead > tr,\n",
       ".dataframe > tbody > tr {\n",
       "  text-align: right;\n",
       "  white-space: pre-wrap;\n",
       "}\n",
       "</style>\n",
       "<small>shape: (1, 1)</small><table border=\"1\" class=\"dataframe\"><thead><tr><th>AMOUNT</th></tr><tr><td>f64</td></tr></thead><tbody><tr><td>2.1367e10</td></tr></tbody></table></div>"
      ],
      "text/plain": [
       "shape: (1, 1)\n",
       "┌───────────┐\n",
       "│ AMOUNT    │\n",
       "│ ---       │\n",
       "│ f64       │\n",
       "╞═══════════╡\n",
       "│ 2.1367e10 │\n",
       "└───────────┘"
      ]
     },
     "execution_count": 3,
     "metadata": {},
     "output_type": "execute_result"
    }
   ],
   "source": [
    "transactions.select(pl.col(\"AMOUNT\").sum()).collect()"
   ]
  },
  {
   "cell_type": "code",
   "execution_count": 5,
   "id": "acc91ec3-b945-4dc4-99f0-5a16d53650c6",
   "metadata": {},
   "outputs": [
    {
     "data": {
      "text/html": [
       "<div><style>\n",
       ".dataframe > thead > tr,\n",
       ".dataframe > tbody > tr {\n",
       "  text-align: right;\n",
       "  white-space: pre-wrap;\n",
       "}\n",
       "</style>\n",
       "<small>shape: (1, 1)</small><table border=\"1\" class=\"dataframe\"><thead><tr><th>AMOUNT</th></tr><tr><td>f64</td></tr></thead><tbody><tr><td>2.1367e10</td></tr></tbody></table></div>"
      ],
      "text/plain": [
       "shape: (1, 1)\n",
       "┌───────────┐\n",
       "│ AMOUNT    │\n",
       "│ ---       │\n",
       "│ f64       │\n",
       "╞═══════════╡\n",
       "│ 2.1367e10 │\n",
       "└───────────┘"
      ]
     },
     "execution_count": 5,
     "metadata": {},
     "output_type": "execute_result"
    }
   ],
   "source": [
    "transactions.select(pl.col(\"AMOUNT\").sum()).collect(engine=\"gpu\")"
   ]
  },
  {
   "cell_type": "code",
   "execution_count": 6,
   "id": "985d05c7-9ddb-4c71-8bd0-74f9cab31025",
   "metadata": {},
   "outputs": [
    {
     "name": "stdout",
     "output_type": "stream",
     "text": [
      "CPU times: user 48.4 s, sys: 11.6 s, total: 1min\n",
      "Wall time: 7.03 s\n"
     ]
    },
    {
     "data": {
      "text/html": [
       "<div><style>\n",
       ".dataframe > thead > tr,\n",
       ".dataframe > tbody > tr {\n",
       "  text-align: right;\n",
       "  white-space: pre-wrap;\n",
       "}\n",
       "</style>\n",
       "<small>shape: (5, 2)</small><table border=\"1\" class=\"dataframe\"><thead><tr><th>CUST_ID</th><th>AMOUNT</th></tr><tr><td>str</td><td>f64</td></tr></thead><tbody><tr><td>&quot;CP2KXQSX9I&quot;</td><td>2.3108e6</td></tr><tr><td>&quot;CGOKEO2EH4&quot;</td><td>2.2721e6</td></tr><tr><td>&quot;CZ1KK7E2PK&quot;</td><td>2.2409e6</td></tr><tr><td>&quot;CXYJF3GWQU&quot;</td><td>2.2389e6</td></tr><tr><td>&quot;CZ0G7ZK6HA&quot;</td><td>2.2119e6</td></tr></tbody></table></div>"
      ],
      "text/plain": [
       "shape: (5, 2)\n",
       "┌────────────┬──────────┐\n",
       "│ CUST_ID    ┆ AMOUNT   │\n",
       "│ ---        ┆ ---      │\n",
       "│ str        ┆ f64      │\n",
       "╞════════════╪══════════╡\n",
       "│ CP2KXQSX9I ┆ 2.3108e6 │\n",
       "│ CGOKEO2EH4 ┆ 2.2721e6 │\n",
       "│ CZ1KK7E2PK ┆ 2.2409e6 │\n",
       "│ CXYJF3GWQU ┆ 2.2389e6 │\n",
       "│ CZ0G7ZK6HA ┆ 2.2119e6 │\n",
       "└────────────┴──────────┘"
      ]
     },
     "execution_count": 6,
     "metadata": {},
     "output_type": "execute_result"
    }
   ],
   "source": [
    "%%time\n",
    "res_cpu = (\n",
    "   transactions\n",
    "   .group_by(\"CUST_ID\")\n",
    "   .agg(pl.col(\"AMOUNT\").sum())\n",
    "   .sort(by=\"AMOUNT\", descending=True)\n",
    "   .head()\n",
    "   .collect()\n",
    ")\n",
    "res_cpu"
   ]
  },
  {
   "cell_type": "code",
   "execution_count": 7,
   "id": "a9da7651-b874-4ed7-8842-6672c5a3fbe3",
   "metadata": {},
   "outputs": [
    {
     "name": "stdout",
     "output_type": "stream",
     "text": [
      "CPU times: user 1.25 s, sys: 459 ms, total: 1.71 s\n",
      "Wall time: 1.17 s\n"
     ]
    },
    {
     "data": {
      "text/html": [
       "<div><style>\n",
       ".dataframe > thead > tr,\n",
       ".dataframe > tbody > tr {\n",
       "  text-align: right;\n",
       "  white-space: pre-wrap;\n",
       "}\n",
       "</style>\n",
       "<small>shape: (5, 2)</small><table border=\"1\" class=\"dataframe\"><thead><tr><th>CUST_ID</th><th>AMOUNT</th></tr><tr><td>str</td><td>f64</td></tr></thead><tbody><tr><td>&quot;CP2KXQSX9I&quot;</td><td>2.3108e6</td></tr><tr><td>&quot;CGOKEO2EH4&quot;</td><td>2.2721e6</td></tr><tr><td>&quot;CZ1KK7E2PK&quot;</td><td>2.2409e6</td></tr><tr><td>&quot;CXYJF3GWQU&quot;</td><td>2.2389e6</td></tr><tr><td>&quot;CZ0G7ZK6HA&quot;</td><td>2.2119e6</td></tr></tbody></table></div>"
      ],
      "text/plain": [
       "shape: (5, 2)\n",
       "┌────────────┬──────────┐\n",
       "│ CUST_ID    ┆ AMOUNT   │\n",
       "│ ---        ┆ ---      │\n",
       "│ str        ┆ f64      │\n",
       "╞════════════╪══════════╡\n",
       "│ CP2KXQSX9I ┆ 2.3108e6 │\n",
       "│ CGOKEO2EH4 ┆ 2.2721e6 │\n",
       "│ CZ1KK7E2PK ┆ 2.2409e6 │\n",
       "│ CXYJF3GWQU ┆ 2.2389e6 │\n",
       "│ CZ0G7ZK6HA ┆ 2.2119e6 │\n",
       "└────────────┴──────────┘"
      ]
     },
     "execution_count": 7,
     "metadata": {},
     "output_type": "execute_result"
    }
   ],
   "source": [
    "%%time\n",
    "res_gpu = (\n",
    "   transactions\n",
    "   .group_by(\"CUST_ID\")\n",
    "   .agg(pl.col(\"AMOUNT\").sum())\n",
    "   .sort(by=\"AMOUNT\", descending=True)\n",
    "   .head()\n",
    "   .collect(engine=\"gpu\")\n",
    ")\n",
    "res_gpu"
   ]
  }
 ],
 "metadata": {
  "environment": {
   "kernel": "polars-gpu",
   "name": "workbench-notebooks.m129",
   "type": "gcloud",
   "uri": "us-docker.pkg.dev/deeplearning-platform-release/gcr.io/workbench-notebooks:m129"
  },
  "kernelspec": {
   "display_name": "polars-gpu",
   "language": "python",
   "name": "polars-gpu"
  },
  "language_info": {
   "codemirror_mode": {
    "name": "ipython",
    "version": 3
   },
   "file_extension": ".py",
   "mimetype": "text/x-python",
   "name": "python",
   "nbconvert_exporter": "python",
   "pygments_lexer": "ipython3",
   "version": "3.10.16"
  }
 },
 "nbformat": 4,
 "nbformat_minor": 5
}
